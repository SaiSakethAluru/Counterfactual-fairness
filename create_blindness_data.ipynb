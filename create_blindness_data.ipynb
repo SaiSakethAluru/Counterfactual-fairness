{
 "cells": [
  {
   "cell_type": "code",
   "execution_count": 1,
   "metadata": {},
   "outputs": [],
   "source": [
    "import csv\n",
    "import re\n",
    "import nltk\n",
    "\n",
    "def read_tokens(filename):\n",
    "    flag = False\n",
    "    train_tokens = []\n",
    "    test_tokens = []\n",
    "    with open(filename,'r') as file:\n",
    "        for line in file:\n",
    "            if 'Train' in line:\n",
    "                continue\n",
    "            if 'Test' in line:\n",
    "                flag = True\n",
    "                continue\n",
    "            if not flag:\n",
    "                train_tokens.append(line.strip())\n",
    "            else:\n",
    "                test_tokens.append(line.strip())\n",
    "    return train_tokens,test_tokens\n",
    "                \n",
    "\n",
    "def read_file(filename,tokens):\n",
    "    data = []\n",
    "    identity = '<asdfgh>'\n",
    "    with open(filename,'r') as file:\n",
    "        with open(filename[:-4]+'_blindness_1.csv','w') as ofile:\n",
    "            csv_file = csv.DictReader(file)\n",
    "            fieldnames = ['comment_text', 'toxic']\n",
    "            writer = csv.DictWriter(ofile, fieldnames=fieldnames)\n",
    "            writer.writeheader()\n",
    "            count = 0\n",
    "            for line in csv_file:\n",
    "                s = \"\"\n",
    "                toxicity = line['toxic']\n",
    "                l = line['comment_text'].lower()\n",
    "                words = l.split()\n",
    "                count = count+1\n",
    "                for w in words:\n",
    "                    if w in tokens:\n",
    "                        s = s + \" \" + identity\n",
    "                    else:\n",
    "                        s = s + \" \" + w\n",
    "                writer.writerow({'comment_text':s,'toxic':toxicity}) \n",
    "#                 csv_write.writerow(\"\\n\")\n",
    "            print(count)"
   ]
  },
  {
   "cell_type": "code",
   "execution_count": 2,
   "metadata": {},
   "outputs": [
    {
     "name": "stdout",
     "output_type": "stream",
     "text": [
      "159571\n"
     ]
    }
   ],
   "source": [
    "train_tokens,test_tokens = read_tokens(\"./identity_words.txt\")\n",
    "# print(train_tokens)\n",
    "read_file(\"./jigsaw-toxic-comment-classification-challenge/cleaned_train.csv\",train_tokens)"
   ]
  },
  {
   "cell_type": "code",
   "execution_count": 3,
   "metadata": {},
   "outputs": [],
   "source": [
    "s = \"i am chandana\""
   ]
  },
  {
   "cell_type": "code",
   "execution_count": 4,
   "metadata": {},
   "outputs": [
    {
     "name": "stdout",
     "output_type": "stream",
     "text": [
      "yo\n"
     ]
    }
   ],
   "source": [
    "if \"am\" in s:\n",
    "    print(\"yo\")"
   ]
  },
  {
   "cell_type": "code",
   "execution_count": null,
   "metadata": {},
   "outputs": [],
   "source": []
  }
 ],
 "metadata": {
  "kernelspec": {
   "display_name": "Python 3",
   "language": "python",
   "name": "python3"
  },
  "language_info": {
   "codemirror_mode": {
    "name": "ipython",
    "version": 3
   },
   "file_extension": ".py",
   "mimetype": "text/x-python",
   "name": "python",
   "nbconvert_exporter": "python",
   "pygments_lexer": "ipython3",
   "version": "3.5.2"
  }
 },
 "nbformat": 4,
 "nbformat_minor": 2
}
